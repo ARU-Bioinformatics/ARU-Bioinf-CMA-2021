{
  "cells": [
    {
      "cell_type": "markdown",
      "metadata": {
        "id": "view-in-github",
        "colab_type": "text"
      },
      "source": [
        "<a href=\"https://colab.research.google.com/github/ARU-Bioinformatics/ARU-Bioinf-CMA-2021/blob/main/demo_string_key_to_integer.ipynb\" target=\"_parent\"><img src=\"https://colab.research.google.com/assets/colab-badge.svg\" alt=\"Open In Colab\"/></a>"
      ]
    },
    {
      "cell_type": "markdown",
      "metadata": {
        "id": "LC9KoI01H8NZ"
      },
      "source": [
        "# Hash map function choice\n",
        "\n",
        "One of the features of most hash table keys is that they will be *strings*. These will not be immediately useful for making an integer that can be changed to a hash table address. \n",
        "\n",
        "For example, the common example of a _modulus_ function to select the slot in the table requires an integer. \n",
        "\n",
        "A hash map function must be used to change a string key into an integer?.\n",
        "\n",
        "One possible way is the ord() function which takes a character and returns its numbering in the Unicode lookup table data. "
      ]
    },
    {
      "cell_type": "code",
      "execution_count": null,
      "metadata": {
        "id": "vP1EZBNNH8Nc"
      },
      "outputs": [],
      "source": [
        "# run this cell to see ord values for 'a', 'b' and 'z'\n",
        "for letter in 'a', 'b', 'z':\n",
        "    ord_letter = ord(letter)\n",
        "    print(f'ord({letter})= {ord_letter}')"
      ]
    },
    {
      "cell_type": "code",
      "execution_count": null,
      "metadata": {
        "id": "O8vEd68tH8Ne"
      },
      "outputs": [],
      "source": [
        "# now your turn - What is the ord values of 'A', 'Z', '$', '\\n'"
      ]
    },
    {
      "cell_type": "markdown",
      "metadata": {
        "id": "o9yMG_-vH8Nf"
      },
      "source": [
        "So one commonly suggested way to produce an integer key from a string is to add together the ord() values of its characters. "
      ]
    },
    {
      "cell_type": "code",
      "execution_count": null,
      "metadata": {
        "id": "6CALpKyBH8Nf"
      },
      "outputs": [],
      "source": [
        "# run this cell to define the function str_hash_simple\n",
        "def str_hash_simple(mystring, hash_table_size=27):\n",
        "    _sum = 0\n",
        "    for _char in mystring:\n",
        "        _sum += ord(_char)        \n",
        "    return _sum%hash_table_size"
      ]
    },
    {
      "cell_type": "code",
      "execution_count": null,
      "metadata": {
        "id": "V1idQLXmH8Ng"
      },
      "outputs": [],
      "source": [
        "# run this cell to see the str_hash_simple value of \"AUG\"\n",
        "str_hash_simple('AUG')"
      ]
    },
    {
      "cell_type": "markdown",
      "metadata": {
        "id": "-c5fLwrrH8Ng"
      },
      "source": [
        "One obvious issue with a simple sum is that of course it does not depend on order. This would create a lot of collisions especially with a limited alphabet. "
      ]
    },
    {
      "cell_type": "code",
      "execution_count": null,
      "metadata": {
        "id": "exkB3S0hH8Nh"
      },
      "outputs": [],
      "source": [
        "# now your turn - write code to get the str_hash_simple() values of 'GUA' and 'AGU' - why?"
      ]
    },
    {
      "cell_type": "markdown",
      "metadata": {
        "id": "zFTTYBHiH8Nh"
      },
      "source": [
        "A way to get around this is to weight each character position. For example using the position of the character in the string. This is available via the Python [enumerate function](https://www.programiz.com/python-programming/methods/built-in/enumerate). "
      ]
    },
    {
      "cell_type": "code",
      "execution_count": null,
      "metadata": {
        "id": "3Ek9_MpIH8Ni"
      },
      "outputs": [],
      "source": [
        "# run this cell to define str_hash_02\n",
        "def str_hash_02(mystring, hash_table_size=27):\n",
        "    _sum = 0\n",
        "    for index, char in enumerate(mystring, start=1):\n",
        "        _sum += ord(char) * index        \n",
        "    return _sum%hash_table_size"
      ]
    },
    {
      "cell_type": "code",
      "execution_count": null,
      "metadata": {
        "id": "24-jCS8PH8Nj"
      },
      "outputs": [],
      "source": [
        "# now your turn - write code to get the str_hash_02 values of 'GUA' and 'AGU' "
      ]
    },
    {
      "cell_type": "markdown",
      "metadata": {
        "id": "bFZi98W5H8Nj"
      },
      "source": [
        "One other simple approach is to use binary numbers. These are numbers in the base 2 so the binary '10' is equivalent to the decimal number 2. If this is unfamilar to you please see https://www.ducksters.com/kidsmath/binary_numbers_basics.php\n",
        "\n",
        "To convert decimal numbers to binary strings in python it is easiest to use the format function:"
      ]
    },
    {
      "cell_type": "code",
      "execution_count": null,
      "metadata": {
        "id": "CthMm1K-H8Nj"
      },
      "outputs": [],
      "source": [
        "# run this cell to see how to convert decimals to binary in python\n",
        "for value in range(17):\n",
        "    binary_string = format(value, 'b')\n",
        "    print(f'decimal integer {value} in binary is {binary_string}')"
      ]
    },
    {
      "cell_type": "markdown",
      "metadata": {
        "id": "1b_SX1JaH8Nk"
      },
      "source": [
        "So an alternative hash map is convert the ordinals into binary but then to simply concatenate the digits rather than using addition. The result can be converted back to a base 10 integer key using the int() function with a base '2' option.\n",
        "\n",
        "So `GUA` would be \n",
        "* `71` `85` `65` in decimal or \n",
        "* `1000111` `1010101` `1000001` in binary. \n",
        "* Concatenating the 3 binary strings gives `100011110101011000001` \n",
        "* which is converted back to `1174209` by the [Python `int` function](https://www.geeksforgeeks.org/python-int-function/). \n",
        "* The final result would be `1174209%27` = `6` using the default `hash_table_size=27`"
      ]
    },
    {
      "cell_type": "code",
      "execution_count": null,
      "metadata": {
        "id": "0eCij3GAH8Nl"
      },
      "outputs": [],
      "source": [
        "# run this cell to see 1174209%27 from worked example\n",
        "1174209%27"
      ]
    },
    {
      "cell_type": "code",
      "execution_count": null,
      "metadata": {
        "id": "zh51PXjwH8Nl"
      },
      "outputs": [],
      "source": [
        "# run this cell to define str_hash_03 function\n",
        "def str_hash_03(mystring, hash_table_size=27):\n",
        "    concat = ''.join(format(ord(c), 'b') for c in mystring)        \n",
        "    return int(concat,2)%hash_table_size"
      ]
    },
    {
      "cell_type": "code",
      "execution_count": null,
      "metadata": {
        "id": "7B4LWoEKH8Nm"
      },
      "outputs": [],
      "source": [
        "# now your turn write Python to confirm that str_hash_03('GUA') is 6"
      ]
    },
    {
      "cell_type": "code",
      "execution_count": null,
      "metadata": {
        "id": "h-F3iBw3H8Nn"
      },
      "outputs": [],
      "source": [
        "# Write Python to find out what is the str_hash_03 for 'AGU' \n",
        "\n",
        "# does this differ from the value for 'GUA'"
      ]
    },
    {
      "cell_type": "markdown",
      "metadata": {
        "id": "uqiv9yxkH8Nn"
      },
      "source": [
        "# Optional advanced question\n",
        "\n",
        "Another (possibley neater) way of using conversion to binary with [Python Bitwise Operators](https://www.tutorialspoint.com/python/bitwise_operators_example.htm). Can you come up with a function that uses this? Does your function lead to different hash bins for `GUA` and `AGU`"
      ]
    },
    {
      "cell_type": "code",
      "execution_count": null,
      "metadata": {
        "id": "tl_xcVpaH8No"
      },
      "outputs": [],
      "source": [
        ""
      ]
    }
  ],
  "metadata": {
    "kernelspec": {
      "display_name": "Python 3",
      "language": "python",
      "name": "python3"
    },
    "language_info": {
      "codemirror_mode": {
        "name": "ipython",
        "version": 3
      },
      "file_extension": ".py",
      "mimetype": "text/x-python",
      "name": "python",
      "nbconvert_exporter": "python",
      "pygments_lexer": "ipython3",
      "version": "3.7.4"
    },
    "colab": {
      "name": "demo_string_key_to_integer.ipynb",
      "provenance": [],
      "include_colab_link": true
    }
  },
  "nbformat": 4,
  "nbformat_minor": 0
}