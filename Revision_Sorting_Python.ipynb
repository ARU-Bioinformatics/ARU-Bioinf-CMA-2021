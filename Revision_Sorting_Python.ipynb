{
  "cells": [
    {
      "cell_type": "markdown",
      "metadata": {
        "id": "view-in-github",
        "colab_type": "text"
      },
      "source": [
        "<a href=\"https://colab.research.google.com/github/ARU-Bioinformatics/ARU-Bioinf-CMA-2021/blob/main/Revision_Sorting_Python.ipynb\" target=\"_parent\"><img src=\"https://colab.research.google.com/assets/colab-badge.svg\" alt=\"Open In Colab\"/></a>"
      ]
    },
    {
      "cell_type": "markdown",
      "metadata": {
        "id": "won2RbwSaYEX"
      },
      "source": [
        " # Sorting and Plotting"
      ]
    },
    {
      "cell_type": "markdown",
      "metadata": {
        "id": "KGPjfqyVaYEc"
      },
      "source": [
        "# Sorting"
      ]
    },
    {
      "cell_type": "markdown",
      "metadata": {
        "id": "0iiW8GoQaYEc"
      },
      "source": [
        "It is a common problem that you may face where you have a list of numbers or words and you want to find out which is the smallest or the largest, or just generally put them in order, either numerical or alphabetical. To do that we need to sort the data.\n",
        "\n",
        "There are two built-in sort functions in Python:\n",
        "\n",
        "1. sorted(some_list)\n",
        "2. some_list.sort()\n",
        "\n",
        "The first is a function that takes a list, and returns a new list that is sorted. It doesn't change the list.\n",
        "\n",
        "The second is called a \"method\" of the list, and sorts the list \"in place\".\n",
        "\n",
        "How to sort a list? *Compare values, swapping them if they are in the wrong place.*"
      ]
    },
    {
      "cell_type": "code",
      "execution_count": null,
      "metadata": {
        "id": "P09ESPxXaYEe",
        "outputId": "4295d6fd-b665-4c27-a96b-73dd20c9d265"
      },
      "outputs": [
        {
          "data": {
            "text/plain": [
              "['A', 'a', 'apple', 'b', 'c', 'hi']"
            ]
          },
          "execution_count": 2,
          "metadata": {},
          "output_type": "execute_result"
        }
      ],
      "source": [
        "my_list = [\"hi\", \"c\", \"apple\", \"A\", \"a\", \"b\"]"
      ]
    },
    {
      "cell_type": "markdown",
      "metadata": {
        "id": "BRfOBaQhaYEl"
      },
      "source": [
        "What can we sort? Anything we can compare.\n",
        "\n",
        "What can we compare? How are they compared?"
      ]
    },
    {
      "cell_type": "code",
      "execution_count": null,
      "metadata": {
        "id": "WbnzWfEIaYEn"
      },
      "outputs": [],
      "source": [
        ""
      ]
    },
    {
      "cell_type": "code",
      "execution_count": null,
      "metadata": {
        "id": "iPt4D_VraYEn"
      },
      "outputs": [],
      "source": [
        ""
      ]
    },
    {
      "cell_type": "code",
      "execution_count": null,
      "metadata": {
        "id": "zkTk5UwKaYEn"
      },
      "outputs": [],
      "source": [
        ""
      ]
    },
    {
      "cell_type": "code",
      "execution_count": null,
      "metadata": {
        "id": "_3a3MxwAaYEo"
      },
      "outputs": [],
      "source": [
        ""
      ]
    },
    {
      "cell_type": "code",
      "execution_count": null,
      "metadata": {
        "id": "KZbtqvfdaYEq"
      },
      "outputs": [],
      "source": [
        ""
      ]
    },
    {
      "cell_type": "code",
      "execution_count": null,
      "metadata": {
        "id": "g9OOouYLaYEr"
      },
      "outputs": [],
      "source": [
        ""
      ]
    },
    {
      "cell_type": "markdown",
      "metadata": {
        "id": "l9LzT-e7aYEs"
      },
      "source": [
        "## Algorithms for Sorting"
      ]
    },
    {
      "cell_type": "markdown",
      "metadata": {
        "id": "fUh266jdaYEt"
      },
      "source": [
        "There are lots of algorithms for sorting elements. Let's look at three. To compare them, we could time them, but it better that we have a value independent of any particular computer. We'll use the length of the list to be $n$, and we'll use the **number of comparisons** that we interested counting.\n",
        "\n",
        "Each of these functions will sort a list in place, and return the number of comparisons necessary to sort them.\n",
        "\n",
        "For a nice, visual representation of sorts, see: http://www.sorting-algorithms.com/"
      ]
    },
    {
      "cell_type": "code",
      "execution_count": null,
      "metadata": {
        "id": "XFngEegiaYEv"
      },
      "outputs": [],
      "source": [
        "import random\n",
        "\n",
        "def make_array(length, low, high):\n",
        "    list = []\n",
        "    for i in range(length):\n",
        "        list.append(random.randint(low, high))\n",
        "    return list"
      ]
    },
    {
      "cell_type": "markdown",
      "metadata": {
        "id": "jewRoLzHaYEy"
      },
      "source": [
        "## Swapping two variables"
      ]
    },
    {
      "cell_type": "markdown",
      "metadata": {
        "id": "wmICHzK3aYEz"
      },
      "source": [
        "For most sorting variables, we are going to want to swap values around a lot. If we have two values we want to switch positions in a list, or in variables, we have a problem.\n",
        "\n",
        "Say we have values in variables `x` and `y`; if we want to swap them, we might think the first thing to do is to set `x = y` then set `y = x`... but then `x` has the value that `y` had, so both will have the same value... oops.\n",
        "\n",
        "How can we solve that?"
      ]
    },
    {
      "cell_type": "code",
      "execution_count": null,
      "metadata": {
        "id": "RTJDiQMPaYE0"
      },
      "outputs": [],
      "source": [
        "x = 1\n",
        "y = 2\n",
        "print(\"Before: x is {} and y is {}\".format(x, y)) # notice the use of .format()\n",
        "\n",
        "x = y\n",
        "y = x\n",
        "print(\"After: x is {} and y is {}\".format(x, y))"
      ]
    },
    {
      "cell_type": "code",
      "execution_count": null,
      "metadata": {
        "id": "4zZ7IxEAaYE1"
      },
      "outputs": [],
      "source": [
        ""
      ]
    },
    {
      "cell_type": "markdown",
      "metadata": {
        "id": "Fb7srXu0aYE2"
      },
      "source": [
        "## Double Trouble Sort"
      ]
    },
    {
      "cell_type": "code",
      "execution_count": null,
      "metadata": {
        "id": "iXuadOoyaYE5"
      },
      "outputs": [],
      "source": [
        "def double_trouble(array):\n",
        "    \"\"\"\n",
        "    Compare all combinations, swapping if out of order.\n",
        "    \"\"\"\n",
        "    count = 0\n",
        "    for i in range(len(array) - 1):\n",
        "        for j in range(i, len(array)):\n",
        "            count += 1\n",
        "            if array[i] > array[j]:\n",
        "                array[i], array[j] = array[j], array[i]\n",
        "    return count"
      ]
    },
    {
      "cell_type": "code",
      "execution_count": null,
      "metadata": {
        "id": "D82gB0EOaYE6"
      },
      "outputs": [],
      "source": [
        ""
      ]
    },
    {
      "cell_type": "code",
      "execution_count": null,
      "metadata": {
        "id": "3X8BK4nzaYE7"
      },
      "outputs": [],
      "source": [
        "array = make_array(100, 0, 100)\n",
        "print (array)\n",
        "swaps = double_trouble(array)\n",
        "print (array)\n",
        "print (\"Swaps:\", swaps)"
      ]
    },
    {
      "cell_type": "code",
      "execution_count": null,
      "metadata": {
        "id": "Hj8HaTegaYE7"
      },
      "outputs": [],
      "source": [
        ""
      ]
    },
    {
      "cell_type": "code",
      "execution_count": null,
      "metadata": {
        "id": "qemhGDx8aYE8"
      },
      "outputs": [],
      "source": [
        ""
      ]
    },
    {
      "cell_type": "code",
      "execution_count": null,
      "metadata": {
        "id": "3RncOHCFaYE9"
      },
      "outputs": [],
      "source": [
        ""
      ]
    },
    {
      "cell_type": "code",
      "execution_count": null,
      "metadata": {
        "id": "01GiHbXJaYE9"
      },
      "outputs": [],
      "source": [
        ""
      ]
    },
    {
      "cell_type": "code",
      "execution_count": null,
      "metadata": {
        "id": "VTqrW7tqaYE9"
      },
      "outputs": [],
      "source": [
        ""
      ]
    },
    {
      "cell_type": "markdown",
      "metadata": {
        "id": "Krfe4yfkaYE-"
      },
      "source": [
        "## Bubble Sort"
      ]
    },
    {
      "cell_type": "code",
      "execution_count": null,
      "metadata": {
        "id": "ADlp_GUEaYE-"
      },
      "outputs": [],
      "source": [
        "def bubble_sort(array):\n",
        "    \"\"\"\n",
        "    Go through all numbers, compare it with its next. \n",
        "    Swap them if out of order. Repeat until no swaps\n",
        "    have been made.\n",
        "    \"\"\"\n",
        "    swapped = True\n",
        "    count = 0\n",
        "    k = 1\n",
        "    while swapped:\n",
        "        swapped = False\n",
        "        for i in range(0, len(array) - k):\n",
        "            count += 1\n",
        "            if array[i] > array[i + 1]:\n",
        "                array[i], array[i + 1] = array[i + 1], array[i]\n",
        "                swapped = True\n",
        "        k += 1\n",
        "    return count"
      ]
    },
    {
      "cell_type": "code",
      "execution_count": null,
      "metadata": {
        "id": "aYGGkHKaaYE_"
      },
      "outputs": [],
      "source": [
        "array = make_array(1000, 0, 100)\n",
        "#print(array)\n",
        "print(bubble_sort(array))\n",
        "#print(array)"
      ]
    },
    {
      "cell_type": "code",
      "execution_count": null,
      "metadata": {
        "id": "Sj5IRJCGaYE_"
      },
      "outputs": [],
      "source": [
        "bubble_sort(array)"
      ]
    },
    {
      "cell_type": "code",
      "execution_count": null,
      "metadata": {
        "id": "N4BaKAe9aYFA"
      },
      "outputs": [],
      "source": [
        ""
      ]
    },
    {
      "cell_type": "code",
      "execution_count": null,
      "metadata": {
        "id": "yvGGfqnfaYFA"
      },
      "outputs": [],
      "source": [
        ""
      ]
    },
    {
      "cell_type": "code",
      "execution_count": null,
      "metadata": {
        "id": "SxhgxW6daYFB"
      },
      "outputs": [],
      "source": [
        ""
      ]
    },
    {
      "cell_type": "code",
      "execution_count": null,
      "metadata": {
        "id": "zHSTwsrUaYFB"
      },
      "outputs": [],
      "source": [
        ""
      ]
    },
    {
      "cell_type": "code",
      "execution_count": null,
      "metadata": {
        "id": "o_V02N4vaYFB"
      },
      "outputs": [],
      "source": [
        ""
      ]
    },
    {
      "cell_type": "code",
      "execution_count": null,
      "metadata": {
        "id": "Q5U4fJ-oaYFC"
      },
      "outputs": [],
      "source": [
        ""
      ]
    },
    {
      "cell_type": "markdown",
      "metadata": {
        "id": "OtO1zB9baYFC"
      },
      "source": [
        "## Quicksort"
      ]
    },
    {
      "cell_type": "code",
      "execution_count": null,
      "metadata": {
        "id": "bvCJ7HwxaYFC"
      },
      "outputs": [],
      "source": [
        "def quicksort(array, start=0, end=None):\n",
        "    \"\"\"\n",
        "    Pick a value (partition), and divide list into two\n",
        "    parts: those less than/greater than. Sort each of\n",
        "    those, and combine.\n",
        "    \"\"\"\n",
        "    if end is None:\n",
        "        end = len(array) - 1\n",
        "    if start < end:\n",
        "        pivot, count = partition(array, start, end)\n",
        "        countl = quicksort(array, start, pivot - 1)\n",
        "        countr = quicksort(array, pivot + 1, end)\n",
        "        return count + countl + countr\n",
        "    else:\n",
        "        return 0\n",
        "\n",
        "def partition(array, start, end):\n",
        "    pivot = array[start]\n",
        "    left = start + 1\n",
        "    right = end\n",
        "    done = False\n",
        "    count = 0\n",
        "    while not done:\n",
        "        while left <= right and array[left] <= pivot:\n",
        "            count += 1\n",
        "            left = left + 1\n",
        "        while array[right] >= pivot and right >= left:\n",
        "            count += 1\n",
        "            right = right - 1\n",
        "        if right < left:\n",
        "            done = True\n",
        "        else:\n",
        "            array[left], array[right] = array[right], array[left]\n",
        "    array[start], array[right] = array[right], array[start]\n",
        "    return right, count"
      ]
    },
    {
      "cell_type": "code",
      "execution_count": null,
      "metadata": {
        "id": "QPTfMc14aYFD"
      },
      "outputs": [],
      "source": [
        "array = make_array(100, 0, 100)\n",
        "quicksort(array, 0)"
      ]
    },
    {
      "cell_type": "markdown",
      "metadata": {
        "id": "qreaEqALaYFE"
      },
      "source": [
        "# Plotting"
      ]
    },
    {
      "cell_type": "markdown",
      "metadata": {
        "id": "PyCJwPtpaYFE"
      },
      "source": [
        "To do our plotting we will use matplotlib, which is reasonably well integrated with the Jupyter notebook.\n",
        "\n",
        "Import matplotlib with the following code. The second line tells jupyter to change the way figures are drawn in the notebook (to make them look higher resolution):"
      ]
    },
    {
      "cell_type": "code",
      "execution_count": null,
      "metadata": {
        "id": "wDBOb5bOaYFF"
      },
      "outputs": [],
      "source": [
        "import matplotlib.pyplot as plt\n",
        "%config InlineBackend.figure_format = 'svg'"
      ]
    },
    {
      "cell_type": "markdown",
      "metadata": {
        "id": "9eE96YhhaYFG"
      },
      "source": [
        "In the simplest form, the plot function will take a list of numbers to plot, and will plot them as the y values, setting the x values to the index position of each value in the list. We can optionally add a label for the line using the `label` argument. We can also use a  list of specific x values if we wish, in which case the input would be two lists of equal length: one of x values and one of the corresponding y values.\n",
        "\n",
        "Additional plot elements, such as labels and the legend are added with addtional functions, ending with a function to actually show the plot."
      ]
    },
    {
      "cell_type": "code",
      "execution_count": null,
      "metadata": {
        "id": "RCx6YWhRaYFG"
      },
      "outputs": [],
      "source": [
        "plt.plot([2,3,6,12], label=\"test1\")\n",
        "plt.plot([1,2,3,4], label=\"test2\")\n",
        "plt.xlabel(\"n\")\n",
        "plt.ylabel(\"comparisons\")\n",
        "plt.legend()\n",
        "plt.show()"
      ]
    },
    {
      "cell_type": "code",
      "execution_count": null,
      "metadata": {
        "id": "RDirEp_8aYFH"
      },
      "outputs": [],
      "source": [
        "ns = range(0, 500, 10)\n",
        "\n",
        "dt_counts = []\n",
        "for n in ns:\n",
        "    array = make_array(n, 0, n)\n",
        "    dt_counts.append(double_trouble(array))\n",
        "\n",
        "bs_counts = []\n",
        "for n in ns:\n",
        "    array = make_array(n, 0, n)\n",
        "    bs_counts.append(bubble_sort(array))\n",
        "\n",
        "qs_counts = []\n",
        "for n in ns:\n",
        "    array = make_array(n, 0, n)\n",
        "    qs_counts.append(quicksort(array))\n",
        "    \n",
        "    \n",
        "plt.plot(ns, dt_counts, label=\"Double Trouble\")\n",
        "plt.plot(ns, bs_counts, label=\"Bubble Sort\")\n",
        "plt.plot(ns, qs_counts, label=\"Quick Sort\")\n",
        "plt.xlabel(\"n\")\n",
        "plt.ylabel(\"comparisons\")\n",
        "plt.legend()\n",
        "plt.show() "
      ]
    },
    {
      "cell_type": "markdown",
      "metadata": {
        "id": "gb09bNRyaYFI"
      },
      "source": [
        "These results match our analysis if we study the code:\n",
        "\n",
        "**Double Trouble**: $O()$\n",
        "\n",
        "**Bubble Sort**: $O()$\n",
        "\n",
        "**Quick Sort**: $O()$"
      ]
    },
    {
      "cell_type": "code",
      "execution_count": null,
      "metadata": {
        "id": "ipoGcEKkaYFI"
      },
      "outputs": [],
      "source": [
        ""
      ]
    }
  ],
  "metadata": {
    "kernelspec": {
      "display_name": "Python 3",
      "language": "python",
      "name": "python3"
    },
    "language_info": {
      "codemirror_mode": {
        "name": "ipython",
        "version": 3
      },
      "file_extension": ".py",
      "mimetype": "text/x-python",
      "name": "python",
      "nbconvert_exporter": "python",
      "pygments_lexer": "ipython3",
      "version": "3.6.1"
    },
    "colab": {
      "name": "2019-03-06_Sorting_Plotting.ipynb",
      "provenance": [],
      "include_colab_link": true
    }
  },
  "nbformat": 4,
  "nbformat_minor": 0
}